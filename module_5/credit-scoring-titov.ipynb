{
 "cells": [
  {
   "cell_type": "markdown",
   "metadata": {},
   "source": [
    "# CREDIT SCORING"
   ]
  },
  {
   "cell_type": "markdown",
   "metadata": {},
   "source": [
    "## 1. Загрузка библиотек и просмотр данных"
   ]
  },
  {
   "cell_type": "code",
   "execution_count": null,
   "metadata": {
    "execution": {
     "iopub.execute_input": "2021-06-27T15:40:03.850354Z",
     "iopub.status.busy": "2021-06-27T15:40:03.849795Z",
     "iopub.status.idle": "2021-06-27T15:40:07.436024Z",
     "shell.execute_reply": "2021-06-27T15:40:07.43498Z",
     "shell.execute_reply.started": "2021-06-27T15:40:03.850303Z"
    }
   },
   "outputs": [],
   "source": [
    "from pandas import Series\n",
    "import pandas as pd\n",
    "import numpy as np\n",
    "import pandas_profiling as pp\n",
    "\n",
    "import matplotlib.pyplot as plt\n",
    "import seaborn as sns\n",
    "import statsmodels.api as sm\n",
    "\n",
    "from sklearn.feature_selection import f_classif, mutual_info_classif\n",
    "from sklearn.preprocessing import LabelEncoder, OneHotEncoder, StandardScaler, RobustScaler\n",
    "\n",
    "from sklearn.model_selection import train_test_split\n",
    "from sklearn.model_selection import GridSearchCV\n",
    "from sklearn.linear_model import LogisticRegression\n",
    "\n",
    "\n",
    "from sklearn.metrics import confusion_matrix\n",
    "from sklearn.metrics import auc, roc_auc_score, roc_curve\n",
    "from sklearn.metrics import accuracy_score, precision_score, recall_score, f1_score"
   ]
  },
  {
   "cell_type": "code",
   "execution_count": null,
   "metadata": {
    "execution": {
     "iopub.execute_input": "2021-06-27T15:40:07.438205Z",
     "iopub.status.busy": "2021-06-27T15:40:07.437736Z",
     "iopub.status.idle": "2021-06-27T15:40:07.445914Z",
     "shell.execute_reply": "2021-06-27T15:40:07.445022Z",
     "shell.execute_reply.started": "2021-06-27T15:40:07.438171Z"
    }
   },
   "outputs": [],
   "source": [
    "def get_num_info(col, title=None):\n",
    "    '''Function is called to plot feture distribution'''\n",
    "\n",
    "    title = title if title is not None else f\"Distribution for '{col}\"\n",
    "    fig, (ax1, ax2, ax3) = plt.subplots(1, 3, figsize=(15, 5),)\n",
    "\n",
    "    sns.distplot(col.values, bins=20, ax=ax1)\n",
    "\n",
    "    fig = sm.qqplot(col, fit=True, line='45', ax=ax2)\n",
    "    fig.suptitle(title, fontsize=20)\n",
    "\n",
    "    ax3.boxplot(col.values, vert=False)\n",
    "\n",
    "    ax1.set_title('QQ-plot')\n",
    "    ax2.set_title('Distribution')\n",
    "    ax3.set_title('Boxplot')\n",
    "\n",
    "    plt.show()"
   ]
  },
  {
   "cell_type": "code",
   "execution_count": null,
   "metadata": {
    "execution": {
     "iopub.execute_input": "2021-06-27T15:40:07.447909Z",
     "iopub.status.busy": "2021-06-27T15:40:07.44728Z",
     "iopub.status.idle": "2021-06-27T15:40:07.463044Z",
     "shell.execute_reply": "2021-06-27T15:40:07.461687Z",
     "shell.execute_reply.started": "2021-06-27T15:40:07.44787Z"
    }
   },
   "outputs": [],
   "source": [
    "def detect_outliers(data):\n",
    "    '''Function is called to detect outliers'''\n",
    "    q1, q3 = np.percentile(sorted(data), [25, 75])\n",
    "\n",
    "    IQR = q3 - q1\n",
    "\n",
    "    l_b = q1 - (1.5 * IQR)  # lower bound\n",
    "    u_b = q3 + (1.5 * IQR)  # upper bound\n",
    "    outl_count = len(data[data < l_b]) + len(data[data > u_b])\n",
    "\n",
    "    print(\n",
    "        f'Lower Bound: {round(l_b,3)}, Upper Bound {round(u_b,3)}, Outliers Count: {outl_count}')"
   ]
  },
  {
   "cell_type": "code",
   "execution_count": null,
   "metadata": {
    "execution": {
     "iopub.execute_input": "2021-06-27T15:40:07.465469Z",
     "iopub.status.busy": "2021-06-27T15:40:07.465002Z",
     "iopub.status.idle": "2021-06-27T15:40:07.474359Z",
     "shell.execute_reply": "2021-06-27T15:40:07.47333Z",
     "shell.execute_reply.started": "2021-06-27T15:40:07.465431Z"
    }
   },
   "outputs": [],
   "source": [
    "def roc_curve_plot(y_test, y_probs):\n",
    "\n",
    "    fpr, tpr, threshold = roc_curve(y_test, y_probs)\n",
    "    roc_auc = roc_auc_score(y_test, y_probs)\n",
    "\n",
    "    plt.figure()\n",
    "    plt.plot([0, 1], label='Baseline', linestyle='--')\n",
    "    plt.plot(fpr, tpr, label='Regression')\n",
    "    plt.title('Logistic Regression ROC AUC = %0.3f' % roc_auc)\n",
    "    plt.ylabel('True Positive Rate')\n",
    "    plt.xlabel('False Positive Rate')\n",
    "    plt.legend(loc='lower right')\n",
    "    plt.show()"
   ]
  },
  {
   "cell_type": "code",
   "execution_count": null,
   "metadata": {
    "execution": {
     "iopub.execute_input": "2021-06-27T15:40:07.479175Z",
     "iopub.status.busy": "2021-06-27T15:40:07.478745Z",
     "iopub.status.idle": "2021-06-27T15:40:07.493095Z",
     "shell.execute_reply": "2021-06-27T15:40:07.491753Z",
     "shell.execute_reply.started": "2021-06-27T15:40:07.479137Z"
    }
   },
   "outputs": [],
   "source": [
    "def confusion_matrix_plot(y_test, y_pred, xlabels=['True(P)', 'False(P)'], ylabels=['True(A)', 'False(A)'], title='', cmap=None):\n",
    "    cf = confusion_matrix(y_test, y_pred)\n",
    "    sns.heatmap(cf, annot=True, annot_kws={\n",
    "                \"size\": 20}, fmt='', cbar=False, xticklabels=xlabels, yticklabels=ylabels, cmap=cmap)\n",
    "    plt.title('Матрица ошибок ' + title)\n",
    "    plt.show()"
   ]
  },
  {
   "cell_type": "code",
   "execution_count": null,
   "metadata": {
    "execution": {
     "iopub.execute_input": "2021-06-27T15:40:07.496647Z",
     "iopub.status.busy": "2021-06-27T15:40:07.496239Z",
     "iopub.status.idle": "2021-06-27T15:40:07.50394Z",
     "shell.execute_reply": "2021-06-27T15:40:07.50304Z",
     "shell.execute_reply.started": "2021-06-27T15:40:07.496599Z"
    }
   },
   "outputs": [],
   "source": [
    "def get_metrics(y_test, y_pred):\n",
    "    print('Accuracy = %0.4f' % accuracy_score(y_test, y_pred)\n",
    "          + '\\nPrecision = %0.4f' % precision_score(y_test, y_pred)\n",
    "          + '\\nReacall = %0.4f' % recall_score(y_test, y_pred)\n",
    "          + '\\nF1_score = %0.4f' % f1_score(y_test, y_pred))"
   ]
  },
  {
   "cell_type": "code",
   "execution_count": null,
   "metadata": {
    "execution": {
     "iopub.execute_input": "2021-06-27T15:40:07.505703Z",
     "iopub.status.busy": "2021-06-27T15:40:07.505217Z",
     "iopub.status.idle": "2021-06-27T15:40:07.516008Z",
     "shell.execute_reply": "2021-06-27T15:40:07.515081Z",
     "shell.execute_reply.started": "2021-06-27T15:40:07.505645Z"
    }
   },
   "outputs": [],
   "source": [
    "RANDOM_SEED = 42"
   ]
  },
  {
   "cell_type": "code",
   "execution_count": null,
   "metadata": {
    "execution": {
     "iopub.execute_input": "2021-06-27T15:40:07.517806Z",
     "iopub.status.busy": "2021-06-27T15:40:07.517294Z",
     "iopub.status.idle": "2021-06-27T15:40:07.528871Z",
     "shell.execute_reply": "2021-06-27T15:40:07.526828Z",
     "shell.execute_reply.started": "2021-06-27T15:40:07.517768Z"
    }
   },
   "outputs": [],
   "source": [
    "data_directory = '/kaggle/input/sf-dst-scoring/'"
   ]
  },
  {
   "cell_type": "code",
   "execution_count": null,
   "metadata": {
    "execution": {
     "iopub.execute_input": "2021-06-27T15:40:07.53168Z",
     "iopub.status.busy": "2021-06-27T15:40:07.531298Z",
     "iopub.status.idle": "2021-06-27T15:40:07.975317Z",
     "shell.execute_reply": "2021-06-27T15:40:07.974284Z",
     "shell.execute_reply.started": "2021-06-27T15:40:07.531645Z"
    }
   },
   "outputs": [],
   "source": [
    "df_train = pd.read_csv(data_directory + 'train.csv')\n",
    "df_test = pd.read_csv(data_directory + 'test.csv')\n",
    "df_sample = pd.read_csv(data_directory + 'sample_submission.csv')"
   ]
  },
  {
   "cell_type": "code",
   "execution_count": null,
   "metadata": {
    "execution": {
     "iopub.execute_input": "2021-06-27T15:40:07.977098Z",
     "iopub.status.busy": "2021-06-27T15:40:07.976632Z",
     "iopub.status.idle": "2021-06-27T15:40:08.049698Z",
     "shell.execute_reply": "2021-06-27T15:40:08.048929Z",
     "shell.execute_reply.started": "2021-06-27T15:40:07.977066Z"
    }
   },
   "outputs": [],
   "source": [
    "df_train.info()"
   ]
  },
  {
   "cell_type": "code",
   "execution_count": null,
   "metadata": {
    "execution": {
     "iopub.execute_input": "2021-06-27T15:40:08.05128Z",
     "iopub.status.busy": "2021-06-27T15:40:08.050859Z",
     "iopub.status.idle": "2021-06-27T15:40:08.093671Z",
     "shell.execute_reply": "2021-06-27T15:40:08.092677Z",
     "shell.execute_reply.started": "2021-06-27T15:40:08.051248Z"
    }
   },
   "outputs": [],
   "source": [
    "df_test.info()"
   ]
  },
  {
   "cell_type": "code",
   "execution_count": null,
   "metadata": {
    "execution": {
     "iopub.execute_input": "2021-06-27T15:40:08.09552Z",
     "iopub.status.busy": "2021-06-27T15:40:08.095175Z",
     "iopub.status.idle": "2021-06-27T15:40:08.115009Z",
     "shell.execute_reply": "2021-06-27T15:40:08.113568Z",
     "shell.execute_reply.started": "2021-06-27T15:40:08.095483Z"
    }
   },
   "outputs": [],
   "source": [
    "df_sample.info()"
   ]
  },
  {
   "cell_type": "code",
   "execution_count": null,
   "metadata": {
    "execution": {
     "iopub.execute_input": "2021-06-27T15:40:08.116873Z",
     "iopub.status.busy": "2021-06-27T15:40:08.116569Z",
     "iopub.status.idle": "2021-06-27T15:40:08.17479Z",
     "shell.execute_reply": "2021-06-27T15:40:08.173018Z",
     "shell.execute_reply.started": "2021-06-27T15:40:08.116837Z"
    }
   },
   "outputs": [],
   "source": [
    "# объединим тестовую и тренеровочкую выборку в один датасет\n",
    "df_train['sample'] = 1  # 1 обозначим значения тренировочной выборки\n",
    "df_test['sample'] = 0  # 0 обозначим значения тестовой выборки\n",
    "df_test['default'] = -1  # значение, которое необходимо предсказать\n",
    "df = pd.concat([df_train, df_test], ignore_index=True)"
   ]
  },
  {
   "cell_type": "code",
   "execution_count": null,
   "metadata": {
    "execution": {
     "iopub.execute_input": "2021-06-27T15:40:08.177045Z",
     "iopub.status.busy": "2021-06-27T15:40:08.176646Z",
     "iopub.status.idle": "2021-06-27T15:40:08.245809Z",
     "shell.execute_reply": "2021-06-27T15:40:08.244441Z",
     "shell.execute_reply.started": "2021-06-27T15:40:08.177004Z"
    }
   },
   "outputs": [],
   "source": [
    "df.sample(5)"
   ]
  },
  {
   "cell_type": "markdown",
   "metadata": {},
   "source": [
    "**Описание данных:**\n",
    "\n",
    "client_id - идентификатор клиента\n",
    "\n",
    "education - уровень образования\n",
    "\n",
    "sex - пол заемщика\n",
    "\n",
    "age - возраст заемщика\n",
    "\n",
    "car - флаг наличия автомобиля\n",
    "\n",
    "car_type - флаг автомобиля иномарки\n",
    "\n",
    "decline_app_cnt - количество отказанных прошлых заявок\n",
    "\n",
    "good_work - флаг наличия “хорошей” работы\n",
    "\n",
    "bki_request_cnt - количество запросов в БКИ\n",
    "\n",
    "home_address - категоризатор домашнего адреса\n",
    "\n",
    "work_address - категоризатор рабочего адреса\n",
    "\n",
    "income - доход заемщика\n",
    "\n",
    "foreign_passport - наличие загранпаспорта\n",
    "\n",
    "sna - связь заемщика с клиентами банка\n",
    "\n",
    "first_time - давность наличия информации о заемщике\n",
    "\n",
    "score_bki - скоринговый балл по данным из БКИ\n",
    "\n",
    "region_rating - рейтинг региона\n",
    "\n",
    "app_date - дата подачи заявки\n",
    "\n",
    "default - флаг дефолта по кредиту"
   ]
  },
  {
   "cell_type": "markdown",
   "metadata": {
    "heading_collapsed": true
   },
   "source": [
    "## 2. Первичный анализ данных"
   ]
  },
  {
   "cell_type": "code",
   "execution_count": null,
   "metadata": {
    "execution": {
     "iopub.execute_input": "2021-06-27T15:40:08.24769Z",
     "iopub.status.busy": "2021-06-27T15:40:08.247328Z",
     "iopub.status.idle": "2021-06-27T15:40:46.408077Z",
     "shell.execute_reply": "2021-06-27T15:40:46.406929Z",
     "shell.execute_reply.started": "2021-06-27T15:40:08.247657Z"
    },
    "hidden": true,
    "scrolled": true
   },
   "outputs": [],
   "source": [
    "df_profile = pp.ProfileReport(df)\n",
    "df_profile.to_file('result.html')"
   ]
  },
  {
   "cell_type": "markdown",
   "metadata": {
    "hidden": true
   },
   "source": [
    "**[Profile Report - Link](./result.html)**"
   ]
  },
  {
   "cell_type": "markdown",
   "metadata": {
    "hidden": true
   },
   "source": [
    "**Итак**. \n",
    "\n",
    "Датасет содержит:\n",
    "- 19 различных признаков (за вычетом добавленного признака 'sample') из них:\n",
    "    - 9 категориальных\n",
    "    - 7 числовых\n",
    "    - 3 бинарных\n",
    "- 110 148 записей о клиентах банка без дубликатов\n",
    "- 478 пропущенных значений\n",
    "\n",
    "Рассмотрим каждый признак в отдельности:\n",
    "- client_id - все значения уникальны, является идентификатором клиента, не несет никакой ценности для анализа.\n",
    "\n",
    "\n",
    "- app_date - содержит информацию о дате подачи заявки в виде текста. Всего 120 различных значений. Необходима обработка.\n",
    "\n",
    "\n",
    "- education - категориальный признак. Имеет 5 различных значений среди которых около 50% занимает \"SCH\". Также содержит все имеющиеся пропуски в датасете. Нужна обработка по заполнению пустых значений.\n",
    "\n",
    "\n",
    "- sex - категориальный признак, т.к. содержит всего 2 значения имеет смысл переделать в бинарную. Соотношение М/Ж примерно одинаковое, женщин больше на 12%.\n",
    "\n",
    "\n",
    "- age - числовой признак, распределение имеет тяжелый правый хвост, нужна обработка. Средний возраста клиентов - 39 лет. \n",
    "\n",
    "\n",
    "- car - бинарный признак, обработка не требуется. Имеется высокая корреляция с признаком 'car_type', что вполне логично.\n",
    "\n",
    "\n",
    "- decline_app_cnt - числовой признак, имеет тяжелый правый хвост, нужна обработка. Большинство значений(83%) заполнено нулями, что вполне логично. В основном распределение находится в диападоне от 0 до 6.\n",
    "\n",
    "\n",
    "- good_work - бинарный признак, обработка не требуется. Большинство клиентов не имеют хорошую работу. Есть подозрение, что данный признак не является таким уж значительным при выдаче кредита.\n",
    "\n",
    "\n",
    "- score_bki - числовой признак, имеет нормальное распределение, все значения отрицатетльные, 93% значений уникальны.\n",
    "\n",
    "\n",
    "- bki_request_cnt - числовой признак, на графике имеет тяжелый правый хвост, нужна обработка. Много нулей(23%), что нормально. В основном распределение находится в диапазоне от 0 до 8.\n",
    "\n",
    "\n",
    "- region_rating - числовой признак. Имеет распределение от 20 до 80. Больше похож на категориальный признак\n",
    "\n",
    "\n",
    "- home_address, work_address - категориальные признаки, имеют 3 значения, обработка не нужна.\n",
    "\n",
    "\n",
    "- income - числовой признак, на графике имеет тяжелый правый хвост с большим разбросом значений, нужна обработка. \n",
    "\n",
    "\n",
    "- sna, first_time категориальные признаки, имеют 4 значения, обработка не нужна.\n",
    "\n",
    "\n",
    "- foreign_passport - бинарный признак. Большинство клиентов(85%) не имеют загранпаспорта.\n",
    "\n",
    "\n",
    "- default - бинарная, целевая переменная, видно, что клиентов у которых случился дефолт гораздо меньше.  "
   ]
  },
  {
   "cell_type": "markdown",
   "metadata": {
    "hidden": true
   },
   "source": [
    "В данных о клиентах присутствуют переменные всех типов, не все имеют числовую запись, а также есть пропущенные значения. Значит, нам необходима предварительная очистка данных."
   ]
  },
  {
   "cell_type": "markdown",
   "metadata": {
    "hidden": true
   },
   "source": [
    "Как мы видим, пропуски встречаются только в информации об образовании клиентов. Посмотрим на признак ближе:"
   ]
  },
  {
   "cell_type": "code",
   "execution_count": null,
   "metadata": {
    "execution": {
     "iopub.execute_input": "2021-06-27T15:40:46.410021Z",
     "iopub.status.busy": "2021-06-27T15:40:46.409712Z",
     "iopub.status.idle": "2021-06-27T15:40:46.621727Z",
     "shell.execute_reply": "2021-06-27T15:40:46.620545Z",
     "shell.execute_reply.started": "2021-06-27T15:40:46.409985Z"
    },
    "hidden": true
   },
   "outputs": [],
   "source": [
    "df['education'].value_counts().plot.barh()"
   ]
  },
  {
   "cell_type": "markdown",
   "metadata": {
    "hidden": true
   },
   "source": [
    "Заполним пропуски в поле 'education' самым частоповторяемым значением 'SCH':"
   ]
  },
  {
   "cell_type": "code",
   "execution_count": null,
   "metadata": {
    "execution": {
     "iopub.execute_input": "2021-06-27T15:40:46.623582Z",
     "iopub.status.busy": "2021-06-27T15:40:46.623278Z",
     "iopub.status.idle": "2021-06-27T15:40:46.639748Z",
     "shell.execute_reply": "2021-06-27T15:40:46.638843Z",
     "shell.execute_reply.started": "2021-06-27T15:40:46.623552Z"
    },
    "hidden": true
   },
   "outputs": [],
   "source": [
    "df.education.fillna('SCH', inplace=True)"
   ]
  },
  {
   "cell_type": "markdown",
   "metadata": {
    "heading_collapsed": true
   },
   "source": [
    "## 3. Анализ данных"
   ]
  },
  {
   "cell_type": "markdown",
   "metadata": {
    "hidden": true
   },
   "source": [
    "Полученные признаки сгруппируем в четыре категории по типу их обработки (временные, категориальные, бинарные и числовые) для дальнейшего удобного анализа."
   ]
  },
  {
   "cell_type": "code",
   "execution_count": null,
   "metadata": {
    "execution": {
     "iopub.execute_input": "2021-06-27T15:40:46.641076Z",
     "iopub.status.busy": "2021-06-27T15:40:46.640783Z",
     "iopub.status.idle": "2021-06-27T15:40:46.653556Z",
     "shell.execute_reply": "2021-06-27T15:40:46.65247Z",
     "shell.execute_reply.started": "2021-06-27T15:40:46.641048Z"
    },
    "hidden": true
   },
   "outputs": [],
   "source": [
    "time_cols = ['app_date']\n",
    "cat_cols = ['education',  'home_address', 'work_address', 'sna', 'first_time']\n",
    "bin_cols = ['sex', 'car', 'car_type', 'good_work', 'foreign_passport']\n",
    "num_cols = ['age', 'decline_app_cnt', 'region_rating',\n",
    "            'score_bki', 'bki_request_cnt', 'income']"
   ]
  },
  {
   "cell_type": "markdown",
   "metadata": {
    "heading_collapsed": true,
    "hidden": true
   },
   "source": [
    "### Время"
   ]
  },
  {
   "cell_type": "markdown",
   "metadata": {
    "hidden": true
   },
   "source": [
    "Переведем дату подачи заявки в формат datetime"
   ]
  },
  {
   "cell_type": "code",
   "execution_count": null,
   "metadata": {
    "execution": {
     "iopub.execute_input": "2021-06-27T15:40:46.65528Z",
     "iopub.status.busy": "2021-06-27T15:40:46.654979Z",
     "iopub.status.idle": "2021-06-27T15:40:46.69693Z",
     "shell.execute_reply": "2021-06-27T15:40:46.695925Z",
     "shell.execute_reply.started": "2021-06-27T15:40:46.655251Z"
    },
    "hidden": true
   },
   "outputs": [],
   "source": [
    "df['app_date'] = pd.to_datetime(df['app_date'], format='%d%b%Y')"
   ]
  },
  {
   "cell_type": "code",
   "execution_count": null,
   "metadata": {
    "execution": {
     "iopub.execute_input": "2021-06-27T15:40:46.699423Z",
     "iopub.status.busy": "2021-06-27T15:40:46.698682Z",
     "iopub.status.idle": "2021-06-27T15:40:46.859101Z",
     "shell.execute_reply": "2021-06-27T15:40:46.85805Z",
     "shell.execute_reply.started": "2021-06-27T15:40:46.699348Z"
    },
    "hidden": true
   },
   "outputs": [],
   "source": [
    "# определяем начальую дату (1 января 2014 года)\n",
    "df_min = min(df['app_date'])"
   ]
  },
  {
   "cell_type": "code",
   "execution_count": null,
   "metadata": {
    "execution": {
     "iopub.execute_input": "2021-06-27T15:40:46.861484Z",
     "iopub.status.busy": "2021-06-27T15:40:46.860716Z",
     "iopub.status.idle": "2021-06-27T15:40:46.873095Z",
     "shell.execute_reply": "2021-06-27T15:40:46.871783Z",
     "shell.execute_reply.started": "2021-06-27T15:40:46.861426Z"
    },
    "hidden": true,
    "scrolled": true
   },
   "outputs": [],
   "source": [
    "# добавим новый признак - количество прошедших дней с 1 января в году\n",
    "df['days'] = (df['app_date'] - df_min).dt.days.astype('int')"
   ]
  },
  {
   "cell_type": "code",
   "execution_count": null,
   "metadata": {
    "execution": {
     "iopub.execute_input": "2021-06-27T15:40:46.875486Z",
     "iopub.status.busy": "2021-06-27T15:40:46.874966Z",
     "iopub.status.idle": "2021-06-27T15:40:46.894568Z",
     "shell.execute_reply": "2021-06-27T15:40:46.893278Z",
     "shell.execute_reply.started": "2021-06-27T15:40:46.875438Z"
    },
    "hidden": true
   },
   "outputs": [],
   "source": [
    "# добавим категориальный признак - месяц, т.к. анализ показал, что участвует всего 4 месяца в одном и том же году\n",
    "df['month'] = df['app_date'].dt.month.astype('int')"
   ]
  },
  {
   "cell_type": "code",
   "execution_count": null,
   "metadata": {
    "execution": {
     "iopub.execute_input": "2021-06-27T15:40:46.896316Z",
     "iopub.status.busy": "2021-06-27T15:40:46.896003Z",
     "iopub.status.idle": "2021-06-27T15:40:46.904928Z",
     "shell.execute_reply": "2021-06-27T15:40:46.90409Z",
     "shell.execute_reply.started": "2021-06-27T15:40:46.896287Z"
    },
    "hidden": true
   },
   "outputs": [],
   "source": [
    "df['month'].value_counts()"
   ]
  },
  {
   "cell_type": "markdown",
   "metadata": {
    "hidden": true
   },
   "source": [
    "Добавим новые признаки к переменным"
   ]
  },
  {
   "cell_type": "code",
   "execution_count": null,
   "metadata": {
    "execution": {
     "iopub.execute_input": "2021-06-27T15:40:46.906482Z",
     "iopub.status.busy": "2021-06-27T15:40:46.906059Z",
     "iopub.status.idle": "2021-06-27T15:40:46.917183Z",
     "shell.execute_reply": "2021-06-27T15:40:46.916183Z",
     "shell.execute_reply.started": "2021-06-27T15:40:46.906447Z"
    },
    "hidden": true
   },
   "outputs": [],
   "source": [
    "num_cols = num_cols + ['days']\n",
    "cat_cols = cat_cols + ['month']"
   ]
  },
  {
   "cell_type": "markdown",
   "metadata": {
    "hidden": true
   },
   "source": [
    "Уберем изначальный признак"
   ]
  },
  {
   "cell_type": "code",
   "execution_count": null,
   "metadata": {
    "execution": {
     "iopub.execute_input": "2021-06-27T15:40:46.919007Z",
     "iopub.status.busy": "2021-06-27T15:40:46.918691Z",
     "iopub.status.idle": "2021-06-27T15:40:46.95899Z",
     "shell.execute_reply": "2021-06-27T15:40:46.957838Z",
     "shell.execute_reply.started": "2021-06-27T15:40:46.918971Z"
    },
    "hidden": true,
    "scrolled": true
   },
   "outputs": [],
   "source": [
    "df.drop(['app_date'], axis=1, inplace=True)"
   ]
  },
  {
   "cell_type": "code",
   "execution_count": null,
   "metadata": {
    "execution": {
     "iopub.execute_input": "2021-06-27T15:40:46.960694Z",
     "iopub.status.busy": "2021-06-27T15:40:46.960346Z",
     "iopub.status.idle": "2021-06-27T15:40:46.991721Z",
     "shell.execute_reply": "2021-06-27T15:40:46.990541Z",
     "shell.execute_reply.started": "2021-06-27T15:40:46.960661Z"
    },
    "hidden": true
   },
   "outputs": [],
   "source": [
    "df.sample(5)"
   ]
  },
  {
   "cell_type": "markdown",
   "metadata": {
    "heading_collapsed": true,
    "hidden": true
   },
   "source": [
    "### Числовые переменные"
   ]
  },
  {
   "cell_type": "markdown",
   "metadata": {
    "heading_collapsed": true,
    "hidden": true
   },
   "source": [
    "#### Графики"
   ]
  },
  {
   "cell_type": "code",
   "execution_count": null,
   "metadata": {
    "execution": {
     "iopub.execute_input": "2021-06-27T15:40:46.993969Z",
     "iopub.status.busy": "2021-06-27T15:40:46.993528Z",
     "iopub.status.idle": "2021-06-27T15:40:56.64455Z",
     "shell.execute_reply": "2021-06-27T15:40:56.643258Z",
     "shell.execute_reply.started": "2021-06-27T15:40:46.993924Z"
    },
    "hidden": true
   },
   "outputs": [],
   "source": [
    "for col in num_cols:\n",
    "    get_num_info(df[col], title=col)\n",
    "    detect_outliers(df[col])"
   ]
  },
  {
   "cell_type": "markdown",
   "metadata": {
    "heading_collapsed": true,
    "hidden": true
   },
   "source": [
    "#### Логарифмирование"
   ]
  },
  {
   "cell_type": "markdown",
   "metadata": {
    "hidden": true
   },
   "source": [
    "После построения гистограмм стало очевидно, что распределения числовых переменных:\n",
    "- age\n",
    "- decline_app_cnt\n",
    "- bki_request_cnt\n",
    "- income\n",
    "\n",
    "имеют тяжёлый правый хвост. "
   ]
  },
  {
   "cell_type": "markdown",
   "metadata": {
    "hidden": true
   },
   "source": [
    "Сделаем распределение данных переменных более нормальным, логарифмировав величины этих переменных:"
   ]
  },
  {
   "cell_type": "code",
   "execution_count": null,
   "metadata": {
    "execution": {
     "iopub.execute_input": "2021-06-27T15:40:56.646807Z",
     "iopub.status.busy": "2021-06-27T15:40:56.646318Z",
     "iopub.status.idle": "2021-06-27T15:40:56.687811Z",
     "shell.execute_reply": "2021-06-27T15:40:56.686754Z",
     "shell.execute_reply.started": "2021-06-27T15:40:56.646755Z"
    },
    "hidden": true
   },
   "outputs": [],
   "source": [
    "for col in ['age', 'decline_app_cnt', 'bki_request_cnt', 'income']:\n",
    "    df[col] = (df[col] + 1).transform(np.log)"
   ]
  },
  {
   "cell_type": "markdown",
   "metadata": {
    "hidden": true
   },
   "source": [
    "Построим графики распределения логарифмированных переменных:"
   ]
  },
  {
   "cell_type": "code",
   "execution_count": null,
   "metadata": {
    "execution": {
     "iopub.execute_input": "2021-06-27T15:40:56.689975Z",
     "iopub.status.busy": "2021-06-27T15:40:56.689654Z",
     "iopub.status.idle": "2021-06-27T15:41:02.001719Z",
     "shell.execute_reply": "2021-06-27T15:41:02.000677Z",
     "shell.execute_reply.started": "2021-06-27T15:40:56.689943Z"
    },
    "hidden": true,
    "scrolled": true
   },
   "outputs": [],
   "source": [
    "for col in ['age', 'decline_app_cnt', 'bki_request_cnt', 'income']:\n",
    "    get_num_info(df[col], title=col)\n",
    "    detect_outliers(df[col])"
   ]
  },
  {
   "cell_type": "markdown",
   "metadata": {
    "heading_collapsed": true,
    "hidden": true
   },
   "source": [
    "#### Выбросы"
   ]
  },
  {
   "cell_type": "markdown",
   "metadata": {
    "hidden": true
   },
   "source": [
    "Согласно построенным графикам выбросы имеются в 5-ти переменных:\n",
    "- decline_app_cnt - т.к. основным значением является 0, то в \"выбросы\" попало 18677 значений, чем они не являются, оставляем.\n",
    "- region_rating - 17917 значений находится за границами, не являются выбросами, т.к. находятся в допустимом диапазоне от 0 до 100, оставляем так как есть.\n",
    "- score_bki - 518 значений находятся за границами, их немного, оставляем.\n",
    "- bki_request_cnt - 15 значений находятся за границей, их не много, оставляем.\n",
    "- income - сильный разброс по доходам даже после логорифмирования, есть выбросы как слевой так и справой стороны. Пока удалять не будем"
   ]
  },
  {
   "cell_type": "markdown",
   "metadata": {
    "heading_collapsed": true,
    "hidden": true
   },
   "source": [
    "#### Оценка корреляций"
   ]
  },
  {
   "cell_type": "code",
   "execution_count": null,
   "metadata": {
    "execution": {
     "iopub.execute_input": "2021-06-27T15:41:02.003158Z",
     "iopub.status.busy": "2021-06-27T15:41:02.002865Z",
     "iopub.status.idle": "2021-06-27T15:41:02.643871Z",
     "shell.execute_reply": "2021-06-27T15:41:02.642843Z",
     "shell.execute_reply.started": "2021-06-27T15:41:02.003129Z"
    },
    "hidden": true
   },
   "outputs": [],
   "source": [
    "fig, ax = plt.subplots(1, 1, figsize=(10, 5))\n",
    "ax = sns.heatmap(df[num_cols + ['default']].corr().abs(),\n",
    "                 vmin=0, vmax=1, annot=True, fmt='.1g', cmap='ocean')"
   ]
  },
  {
   "cell_type": "markdown",
   "metadata": {
    "hidden": true
   },
   "source": [
    "Все признаки низкокоррелируемы и пригодны для дальнейшего использования при построении модели"
   ]
  },
  {
   "cell_type": "markdown",
   "metadata": {
    "heading_collapsed": true,
    "hidden": true
   },
   "source": [
    "#### Оценка значимости "
   ]
  },
  {
   "cell_type": "markdown",
   "metadata": {
    "hidden": true
   },
   "source": [
    "Для оценки значимости числовых переменных будем использовать функцию f_classif из библиотеки sklearn. \n",
    "\n",
    "Возможности модуля sklearn.feature_selection могут быть использованы не только для выбора важных признаков, но и для уменьшения размерности, улучшения предсказательной силы моделей, либо для повышения их производительности на очень многомерных наборах данных.\n",
    "\n",
    "В основе метода оценки значимости переменных лежит однофакторный дисперсионный анализ (ANOVA). Основу процедуры составляет обобщение результатов двух выборочных t-тестов для независимых выборок (2-sample t). \n",
    "\n",
    "В качестве меры значимости мы будем использовать значение f-статистики. Чем значение статистики выше, тем меньше вероятность того, что средние значения не отличаются, и тем важнее данный признак для нашей линейной модели."
   ]
  },
  {
   "cell_type": "code",
   "execution_count": null,
   "metadata": {
    "execution": {
     "iopub.execute_input": "2021-06-27T15:41:02.645668Z",
     "iopub.status.busy": "2021-06-27T15:41:02.645368Z",
     "iopub.status.idle": "2021-06-27T15:41:02.871768Z",
     "shell.execute_reply": "2021-06-27T15:41:02.870707Z",
     "shell.execute_reply.started": "2021-06-27T15:41:02.645639Z"
    },
    "hidden": true
   },
   "outputs": [],
   "source": [
    "imp_num = pd.Series(f_classif(df[num_cols], df['default'])[0], index=num_cols)\n",
    "imp_num.sort_values(inplace=True)\n",
    "imp_num.plot(kind='barh')"
   ]
  },
  {
   "cell_type": "markdown",
   "metadata": {
    "hidden": true
   },
   "source": [
    "**Вывод**\n",
    "\n",
    "Самой значимой числовой переменной по результатам оценки является - оценка плательщика БКИ (score_bki).\n",
    "Наименее значимой переменной является возраст (age)"
   ]
  },
  {
   "cell_type": "markdown",
   "metadata": {
    "heading_collapsed": true,
    "hidden": true
   },
   "source": [
    "### Категориальные переменные"
   ]
  },
  {
   "cell_type": "markdown",
   "metadata": {
    "heading_collapsed": true,
    "hidden": true
   },
   "source": [
    "#### Преобразование переменных в числа"
   ]
  },
  {
   "cell_type": "markdown",
   "metadata": {
    "hidden": true
   },
   "source": [
    "SEX"
   ]
  },
  {
   "cell_type": "code",
   "execution_count": null,
   "metadata": {
    "execution": {
     "iopub.execute_input": "2021-06-27T15:41:02.87779Z",
     "iopub.status.busy": "2021-06-27T15:41:02.877424Z",
     "iopub.status.idle": "2021-06-27T15:41:02.922775Z",
     "shell.execute_reply": "2021-06-27T15:41:02.921626Z",
     "shell.execute_reply.started": "2021-06-27T15:41:02.877758Z"
    },
    "hidden": true
   },
   "outputs": [],
   "source": [
    "label_encoder = LabelEncoder()\n",
    "\n",
    "mapped_sex = pd.Series(label_encoder.fit_transform(df['sex']))\n",
    "print(dict(enumerate(label_encoder.classes_)))"
   ]
  },
  {
   "cell_type": "markdown",
   "metadata": {
    "hidden": true
   },
   "source": [
    "EDUCATION"
   ]
  },
  {
   "cell_type": "code",
   "execution_count": null,
   "metadata": {
    "execution": {
     "iopub.execute_input": "2021-06-27T15:41:02.925009Z",
     "iopub.status.busy": "2021-06-27T15:41:02.924629Z",
     "iopub.status.idle": "2021-06-27T15:41:02.98267Z",
     "shell.execute_reply": "2021-06-27T15:41:02.981067Z",
     "shell.execute_reply.started": "2021-06-27T15:41:02.92497Z"
    },
    "hidden": true,
    "scrolled": true
   },
   "outputs": [],
   "source": [
    "df.education = pd.Series(label_encoder.fit_transform(df['education']))\n",
    "print(dict(enumerate(label_encoder.classes_)))"
   ]
  },
  {
   "cell_type": "code",
   "execution_count": null,
   "metadata": {
    "execution": {
     "iopub.execute_input": "2021-06-27T15:41:02.985811Z",
     "iopub.status.busy": "2021-06-27T15:41:02.98523Z",
     "iopub.status.idle": "2021-06-27T15:41:03.202648Z",
     "shell.execute_reply": "2021-06-27T15:41:03.201494Z",
     "shell.execute_reply.started": "2021-06-27T15:41:02.985758Z"
    },
    "hidden": true,
    "scrolled": true
   },
   "outputs": [],
   "source": [
    "# Для бинарных признаков мы будем использовать LabelEncoder\n",
    "\n",
    "label_encoder = LabelEncoder()\n",
    "\n",
    "for column in bin_cols:\n",
    "    df[column] = label_encoder.fit_transform(df[column])\n",
    "\n",
    "# убедимся в преобразовании\n",
    "df.head()"
   ]
  },
  {
   "cell_type": "markdown",
   "metadata": {
    "heading_collapsed": true,
    "hidden": true
   },
   "source": [
    "#### Оценка значимости "
   ]
  },
  {
   "cell_type": "code",
   "execution_count": null,
   "metadata": {
    "execution": {
     "iopub.execute_input": "2021-06-27T15:41:03.204886Z",
     "iopub.status.busy": "2021-06-27T15:41:03.204429Z",
     "iopub.status.idle": "2021-06-27T15:41:03.618155Z",
     "shell.execute_reply": "2021-06-27T15:41:03.617171Z",
     "shell.execute_reply.started": "2021-06-27T15:41:03.204837Z"
    },
    "hidden": true,
    "scrolled": true
   },
   "outputs": [],
   "source": [
    "imp_cat = Series(mutual_info_classif(df[bin_cols + cat_cols], df['default'],\n",
    "                                     discrete_features=True), index=bin_cols + cat_cols)\n",
    "imp_cat.sort_values(inplace=True)\n",
    "imp_cat.plot(kind='barh')"
   ]
  },
  {
   "cell_type": "markdown",
   "metadata": {
    "hidden": true
   },
   "source": [
    "**Вывод**\n",
    "\n",
    "Наиболее важным категориальным признаком является - связь заемщика с клиентами банка (sna).\n",
    "\n",
    "Наименее значимым - пол заемщика (sex)."
   ]
  },
  {
   "cell_type": "markdown",
   "metadata": {},
   "source": [
    "## 4. Построение и оценка модели"
   ]
  },
  {
   "cell_type": "markdown",
   "metadata": {
    "heading_collapsed": true
   },
   "source": [
    "### Модель 1. Первичная модель"
   ]
  },
  {
   "cell_type": "markdown",
   "metadata": {
    "heading_collapsed": true,
    "hidden": true
   },
   "source": [
    "#### Построение модели"
   ]
  },
  {
   "cell_type": "markdown",
   "metadata": {
    "hidden": true
   },
   "source": [
    "Подготавливаем данные для обучения"
   ]
  },
  {
   "cell_type": "code",
   "execution_count": null,
   "metadata": {
    "execution": {
     "iopub.execute_input": "2021-06-27T15:41:03.620068Z",
     "iopub.status.busy": "2021-06-27T15:41:03.619769Z",
     "iopub.status.idle": "2021-06-27T15:41:03.644017Z",
     "shell.execute_reply": "2021-06-27T15:41:03.642868Z",
     "shell.execute_reply.started": "2021-06-27T15:41:03.62004Z"
    },
    "hidden": true
   },
   "outputs": [],
   "source": [
    "train = df[df['sample'] == 1]\n",
    "test = df[df['sample'] == 0]\n",
    "train = train.drop(['sample', 'client_id'], axis=1)\n",
    "test = test.drop(['sample', 'client_id', 'default'], axis=1)"
   ]
  },
  {
   "cell_type": "code",
   "execution_count": null,
   "metadata": {
    "execution": {
     "iopub.execute_input": "2021-06-27T15:41:03.645802Z",
     "iopub.status.busy": "2021-06-27T15:41:03.645486Z",
     "iopub.status.idle": "2021-06-27T15:41:03.661375Z",
     "shell.execute_reply": "2021-06-27T15:41:03.660132Z",
     "shell.execute_reply.started": "2021-06-27T15:41:03.645771Z"
    },
    "hidden": true
   },
   "outputs": [],
   "source": [
    "# Задаем зависимую и независимые переменные:\n",
    "\n",
    "X = train.drop(['default'], axis=1).values\n",
    "Y = train['default'].values"
   ]
  },
  {
   "cell_type": "markdown",
   "metadata": {
    "hidden": true
   },
   "source": [
    "Разбиваем выборку на обучающую и тестовую и обучаем нашу модель:"
   ]
  },
  {
   "cell_type": "code",
   "execution_count": null,
   "metadata": {
    "execution": {
     "iopub.execute_input": "2021-06-27T15:41:03.662822Z",
     "iopub.status.busy": "2021-06-27T15:41:03.662542Z",
     "iopub.status.idle": "2021-06-27T15:41:04.947713Z",
     "shell.execute_reply": "2021-06-27T15:41:04.946534Z",
     "shell.execute_reply.started": "2021-06-27T15:41:03.662794Z"
    },
    "hidden": true,
    "scrolled": true
   },
   "outputs": [],
   "source": [
    "X_train, X_test, y_train, y_test = train_test_split(\n",
    "    X, Y, test_size=0.20, random_state=42)\n",
    "\n",
    "model = LogisticRegression()\n",
    "model.fit(X_train, y_train)"
   ]
  },
  {
   "cell_type": "code",
   "execution_count": null,
   "metadata": {
    "execution": {
     "iopub.execute_input": "2021-06-27T15:41:04.950163Z",
     "iopub.status.busy": "2021-06-27T15:41:04.949489Z",
     "iopub.status.idle": "2021-06-27T15:41:04.961613Z",
     "shell.execute_reply": "2021-06-27T15:41:04.96031Z",
     "shell.execute_reply.started": "2021-06-27T15:41:04.950113Z"
    },
    "hidden": true
   },
   "outputs": [],
   "source": [
    "y_pred = model.predict(X_test)\n",
    "y_probs = model.predict_proba(X_test)[:, 1]"
   ]
  },
  {
   "cell_type": "markdown",
   "metadata": {
    "heading_collapsed": true,
    "hidden": true
   },
   "source": [
    "#### Оценка качества модели"
   ]
  },
  {
   "cell_type": "code",
   "execution_count": null,
   "metadata": {
    "execution": {
     "iopub.execute_input": "2021-06-27T15:41:04.963999Z",
     "iopub.status.busy": "2021-06-27T15:41:04.963305Z",
     "iopub.status.idle": "2021-06-27T15:41:05.379432Z",
     "shell.execute_reply": "2021-06-27T15:41:05.378243Z",
     "shell.execute_reply.started": "2021-06-27T15:41:04.963949Z"
    },
    "hidden": true
   },
   "outputs": [],
   "source": [
    "roc_curve_plot(y_test, y_probs)\n",
    "confusion_matrix_plot(y_test, y_pred, xlabels=['Не дефолт(P)', 'Дефолт(P)'], ylabels=[\n",
    "                      'Не дефолт(P)', 'Дефолт(P)'], title='default')\n",
    "get_metrics(y_test, y_pred)"
   ]
  },
  {
   "cell_type": "markdown",
   "metadata": {
    "hidden": true
   },
   "source": [
    "**Вывод**\n",
    "\n",
    "Целевая метрика ROC-AUC достаточно высокая - 0.744\n",
    "Тем не менее из матрицы ошибок видно, что мы практически не угадываем дефолтных клиентов.\n",
    "В первую очередь это связано с несбалансированностью значений в целевой переменной, которая была отмечена еще при первичном анализе данных. Соответственно precision, recall, F1-score корректнее описывают алгоритм, чем accuracy.\n",
    "Низкое значение метрик Reacall и F1 говорит о том, что получившася модель - плохая"
   ]
  },
  {
   "cell_type": "markdown",
   "metadata": {},
   "source": [
    "### Модель 2. Нормализация и oversampling"
   ]
  },
  {
   "cell_type": "markdown",
   "metadata": {},
   "source": [
    "#### Построение модели"
   ]
  },
  {
   "cell_type": "markdown",
   "metadata": {},
   "source": [
    "Попробуем исправить ситуацию с несбалансированностью данных применив oversampling.\n",
    "\n",
    "Увеличим количество записей клиентов, у которых случился дефолт"
   ]
  },
  {
   "cell_type": "code",
   "execution_count": null,
   "metadata": {
    "execution": {
     "iopub.execute_input": "2021-06-27T15:41:05.381675Z",
     "iopub.status.busy": "2021-06-27T15:41:05.381316Z",
     "iopub.status.idle": "2021-06-27T15:41:05.455785Z",
     "shell.execute_reply": "2021-06-27T15:41:05.454676Z",
     "shell.execute_reply.started": "2021-06-27T15:41:05.381641Z"
    }
   },
   "outputs": [],
   "source": [
    "num_0 = len(df[df['default'] == 0])\n",
    "num_1 = len(df[df['default'] == 1])\n",
    "print('Соотношение ДО: \\n 0 = {}\\n 1 = {}'.format(num_0, num_1))\n",
    "\n",
    "oversampled_df = pd.concat(\n",
    "    [df[df['default'] == 0], df[df['default'] == 1].sample(num_0, replace=True)])\n",
    "print('\\nCoотношение ПОСЛЕ:')\n",
    "oversampled_df['default'].value_counts()"
   ]
  },
  {
   "cell_type": "markdown",
   "metadata": {},
   "source": [
    "Снова подготавливаем наши данные"
   ]
  },
  {
   "cell_type": "code",
   "execution_count": null,
   "metadata": {
    "execution": {
     "iopub.execute_input": "2021-06-27T15:41:05.458014Z",
     "iopub.status.busy": "2021-06-27T15:41:05.457582Z",
     "iopub.status.idle": "2021-06-27T15:41:05.504329Z",
     "shell.execute_reply": "2021-06-27T15:41:05.503476Z",
     "shell.execute_reply.started": "2021-06-27T15:41:05.457971Z"
    }
   },
   "outputs": [],
   "source": [
    "train = oversampled_df[oversampled_df['sample'] == 1]\n",
    "test = oversampled_df[oversampled_df['sample'] == 0]\n",
    "train = train.drop(['sample', 'client_id'], axis=1)\n",
    "test = test.drop(['sample', 'client_id', 'default'], axis=1)"
   ]
  },
  {
   "cell_type": "markdown",
   "metadata": {},
   "source": [
    "В этот раз также проведем нормализацию числовых переменных"
   ]
  },
  {
   "cell_type": "code",
   "execution_count": null,
   "metadata": {
    "execution": {
     "iopub.execute_input": "2021-06-27T15:41:05.507199Z",
     "iopub.status.busy": "2021-06-27T15:41:05.506763Z",
     "iopub.status.idle": "2021-06-27T15:41:05.536543Z",
     "shell.execute_reply": "2021-06-27T15:41:05.535245Z",
     "shell.execute_reply.started": "2021-06-27T15:41:05.507156Z"
    }
   },
   "outputs": [],
   "source": [
    "X_num = StandardScaler().fit_transform(train[num_cols].values)"
   ]
  },
  {
   "cell_type": "code",
   "execution_count": null,
   "metadata": {
    "execution": {
     "iopub.execute_input": "2021-06-27T15:41:05.539975Z",
     "iopub.status.busy": "2021-06-27T15:41:05.539494Z",
     "iopub.status.idle": "2021-06-27T15:41:05.559184Z",
     "shell.execute_reply": "2021-06-27T15:41:05.55824Z",
     "shell.execute_reply.started": "2021-06-27T15:41:05.539939Z"
    }
   },
   "outputs": [],
   "source": [
    "# Задаем зависимые и независимые переменные:\n",
    "X = np.hstack([X_num, train[bin_cols+cat_cols].values])\n",
    "Y = train['default'].values"
   ]
  },
  {
   "cell_type": "code",
   "execution_count": null,
   "metadata": {
    "execution": {
     "iopub.execute_input": "2021-06-27T15:41:05.560825Z",
     "iopub.status.busy": "2021-06-27T15:41:05.560504Z",
     "iopub.status.idle": "2021-06-27T15:41:06.93861Z",
     "shell.execute_reply": "2021-06-27T15:41:06.937392Z",
     "shell.execute_reply.started": "2021-06-27T15:41:05.560795Z"
    }
   },
   "outputs": [],
   "source": [
    "# Разбиваем выборку и обучаем подель\n",
    "X_train, X_test, y_train, y_test = train_test_split(\n",
    "    X, Y, test_size=0.20, random_state=RANDOM_SEED)\n",
    "model = LogisticRegression()\n",
    "model.fit(X_train, y_train)"
   ]
  },
  {
   "cell_type": "code",
   "execution_count": null,
   "metadata": {
    "execution": {
     "iopub.execute_input": "2021-06-27T15:41:06.941012Z",
     "iopub.status.busy": "2021-06-27T15:41:06.940356Z",
     "iopub.status.idle": "2021-06-27T15:41:06.953515Z",
     "shell.execute_reply": "2021-06-27T15:41:06.951962Z",
     "shell.execute_reply.started": "2021-06-27T15:41:06.940962Z"
    }
   },
   "outputs": [],
   "source": [
    "y_pred = model.predict(X_test)\n",
    "y_probs = model.predict_proba(X_test)[:, 1]"
   ]
  },
  {
   "cell_type": "markdown",
   "metadata": {},
   "source": [
    "#### Оценка качества модели"
   ]
  },
  {
   "cell_type": "code",
   "execution_count": null,
   "metadata": {
    "execution": {
     "iopub.execute_input": "2021-06-27T15:41:06.956366Z",
     "iopub.status.busy": "2021-06-27T15:41:06.955534Z",
     "iopub.status.idle": "2021-06-27T15:41:07.41912Z",
     "shell.execute_reply": "2021-06-27T15:41:07.417978Z",
     "shell.execute_reply.started": "2021-06-27T15:41:06.956303Z"
    }
   },
   "outputs": [],
   "source": [
    "roc_curve_plot(y_test, y_probs)\n",
    "confusion_matrix_plot(y_test, y_pred, xlabels=['Не дефолт(P)', 'Дефолт(P)'], ylabels=[\n",
    "                      'Не дефолт(P)', 'Дефолт(P)'], title='default')\n",
    "get_metrics(y_test, y_pred)"
   ]
  },
  {
   "cell_type": "markdown",
   "metadata": {},
   "source": [
    "**Вывод**\n",
    "\n",
    "Совсем другое дело, хоть и точность предсказаний с целевой метрикой ROC-AUC снизились, сама модель стала более стабильной. Метрики Reacall и F1 Score выросли до приличных значений. "
   ]
  },
  {
   "cell_type": "markdown",
   "metadata": {},
   "source": [
    "### Модель 3. Подбор гиперпараметров"
   ]
  },
  {
   "cell_type": "markdown",
   "metadata": {},
   "source": [
    "#### Построение модели"
   ]
  },
  {
   "cell_type": "markdown",
   "metadata": {},
   "source": [
    "Попробуем улучшить нашу модель подобрав оптимальные для построения гиперпараметры"
   ]
  },
  {
   "cell_type": "code",
   "execution_count": null,
   "metadata": {
    "execution": {
     "iopub.execute_input": "2021-06-27T15:41:07.420845Z",
     "iopub.status.busy": "2021-06-27T15:41:07.42056Z",
     "iopub.status.idle": "2021-06-27T15:42:49.639817Z",
     "shell.execute_reply": "2021-06-27T15:42:49.638529Z",
     "shell.execute_reply.started": "2021-06-27T15:41:07.420815Z"
    }
   },
   "outputs": [],
   "source": [
    "# запускаем GridSearch на небольшом кол-ве итераций max_iter=100\n",
    "model = LogisticRegression(random_state=RANDOM_SEED)\n",
    "\n",
    "n = 100\n",
    "\n",
    "param_grid = [\n",
    "    {'penalty': ['l1'],\n",
    "     'solver': ['liblinear', 'lbfgs'],\n",
    "     'class_weight':['none', 'balanced'],\n",
    "     'multi_class': ['auto', 'ovr'],\n",
    "     'max_iter':[n]},\n",
    "    {'penalty': ['l2'],\n",
    "     'solver': ['newton-cg', 'lbfgs', 'liblinear', 'sag', 'saga'],\n",
    "     'class_weight':['none', 'balanced'],\n",
    "     'multi_class': ['auto', 'ovr'],\n",
    "     'max_iter':[n]},\n",
    "    {'penalty': ['none'],\n",
    "     'solver': ['newton-cg', 'lbfgs', 'sag', 'saga'],\n",
    "     'class_weight':['none', 'balanced'],\n",
    "     'multi_class': ['auto', 'ovr'],\n",
    "     'max_iter':[n]},\n",
    "]\n",
    "\n",
    "clf = GridSearchCV(model, param_grid, cv=5,  n_jobs=-1, verbose=0)\n",
    "best_model = clf.fit(X_train, y_train)\n",
    "model = clf.best_estimator_\n",
    "# печатаем параметры\n",
    "best_parameters = model.get_params()\n",
    "for param_name in sorted(best_parameters.keys()):\n",
    "    print('\\t%s: %r' % (param_name, best_parameters[param_name]))\n",
    "# печатаем метрики\n",
    "y_pred = model.predict(X_test)\n",
    "y_probs = model.predict_proba(X_test)[:, 1]\n",
    "get_metrics(y_test, y_pred)"
   ]
  },
  {
   "cell_type": "code",
   "execution_count": null,
   "metadata": {
    "execution": {
     "iopub.execute_input": "2021-06-27T15:42:49.642661Z",
     "iopub.status.busy": "2021-06-27T15:42:49.64182Z",
     "iopub.status.idle": "2021-06-27T15:42:51.234009Z",
     "shell.execute_reply": "2021-06-27T15:42:51.232604Z",
     "shell.execute_reply.started": "2021-06-27T15:42:49.642599Z"
    }
   },
   "outputs": [],
   "source": [
    "best_model = LogisticRegression(C=1.0,\n",
    "                                class_weight='none',\n",
    "                                dual=False,\n",
    "                                fit_intercept=True,\n",
    "                                intercept_scaling=1,\n",
    "                                l1_ratio=None,\n",
    "                                max_iter=100,\n",
    "                                multi_class='auto',\n",
    "                                n_jobs=None,\n",
    "                                penalty='l2',\n",
    "                                random_state=42,\n",
    "                                solver='newton-cg',\n",
    "                                tol=0.0001,\n",
    "                                verbose=0,\n",
    "                                warm_start=False)\n",
    "\n",
    "best_model.fit(X_train, y_train)\n",
    "\n",
    "y_pred_prob = best_model.predict_proba(X_test)[:, 1]\n",
    "y_pred = best_model.predict(X_test)"
   ]
  },
  {
   "cell_type": "markdown",
   "metadata": {},
   "source": [
    "#### Оценка качества модели"
   ]
  },
  {
   "cell_type": "code",
   "execution_count": null,
   "metadata": {
    "execution": {
     "iopub.execute_input": "2021-06-27T15:42:51.237008Z",
     "iopub.status.busy": "2021-06-27T15:42:51.236112Z",
     "iopub.status.idle": "2021-06-27T15:42:51.696913Z",
     "shell.execute_reply": "2021-06-27T15:42:51.696021Z",
     "shell.execute_reply.started": "2021-06-27T15:42:51.236947Z"
    }
   },
   "outputs": [],
   "source": [
    "roc_curve_plot(y_test, y_probs)\n",
    "confusion_matrix_plot(y_test, y_pred, ['Не дефолт(P)', 'Дефолт(P)'], ylabels=[\n",
    "                      'Не дефолт(P)', 'Дефолт(P)'], title='default')\n",
    "get_metrics(y_test, y_pred)"
   ]
  },
  {
   "cell_type": "markdown",
   "metadata": {},
   "source": [
    "**Вывод**\n",
    "\n",
    "Построение модели на оптимальных параметрах не дало никакого изменения относительно предыдущей версии. Для улучшения результата и точности модели (пока она правильно предсказывает в 65% случаев) стоит сгенерировать больше новых признаков и поработать с выбросами (не хватило времени). Также в работе не были испробованы другие методы машинного обучения, что также могло бы привести к более лучшему результату.\n",
    "Будем сабмититься"
   ]
  },
  {
   "cell_type": "markdown",
   "metadata": {},
   "source": [
    "## Submission"
   ]
  },
  {
   "cell_type": "code",
   "execution_count": null,
   "metadata": {
    "execution": {
     "iopub.execute_input": "2021-06-27T15:42:51.698545Z",
     "iopub.status.busy": "2021-06-27T15:42:51.698215Z",
     "iopub.status.idle": "2021-06-27T15:42:51.732753Z",
     "shell.execute_reply": "2021-06-27T15:42:51.731414Z",
     "shell.execute_reply.started": "2021-06-27T15:42:51.698507Z"
    }
   },
   "outputs": [],
   "source": [
    "test = df[df['sample'] == 0]\n",
    "X_num = StandardScaler().fit_transform(test[num_cols].values)\n",
    "X_test = np.hstack([X_num, test[bin_cols+cat_cols].values])\n",
    "y_prob = best_model.predict_proba(X_test)[:, 1]\n",
    "test['default'] = y_prob"
   ]
  },
  {
   "cell_type": "code",
   "execution_count": null,
   "metadata": {
    "execution": {
     "iopub.execute_input": "2021-06-27T15:42:51.735379Z",
     "iopub.status.busy": "2021-06-27T15:42:51.734657Z",
     "iopub.status.idle": "2021-06-27T15:42:51.924893Z",
     "shell.execute_reply": "2021-06-27T15:42:51.924018Z",
     "shell.execute_reply.started": "2021-06-27T15:42:51.735326Z"
    }
   },
   "outputs": [],
   "source": [
    "submission = test[['client_id', 'default']]\n",
    "submission.to_csv('submission.csv', index=False)\n",
    "submission.sample(3)\n",
    "# submission.shape"
   ]
  }
 ],
 "metadata": {
  "kernelspec": {
   "display_name": "Python 3 (ipykernel)",
   "language": "python",
   "name": "python3"
  },
  "language_info": {
   "codemirror_mode": {
    "name": "ipython",
    "version": 3
   },
   "file_extension": ".py",
   "mimetype": "text/x-python",
   "name": "python",
   "nbconvert_exporter": "python",
   "pygments_lexer": "ipython3",
   "version": "3.8.8"
  },
  "toc": {
   "base_numbering": 1,
   "nav_menu": {},
   "number_sections": true,
   "sideBar": true,
   "skip_h1_title": false,
   "title_cell": "Table of Contents",
   "title_sidebar": "Contents",
   "toc_cell": false,
   "toc_position": {},
   "toc_section_display": true,
   "toc_window_display": false
  }
 },
 "nbformat": 4,
 "nbformat_minor": 4
}
